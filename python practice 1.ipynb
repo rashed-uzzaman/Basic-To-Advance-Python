{
 "cells": [
  {
   "cell_type": "code",
   "execution_count": 1,
   "id": "a6b54811",
   "metadata": {},
   "outputs": [
    {
     "data": {
      "text/plain": [
       "'Machine Learning'"
      ]
     },
     "execution_count": 1,
     "metadata": {},
     "output_type": "execute_result"
    }
   ],
   "source": [
    "'Machine Learning'"
   ]
  },
  {
   "cell_type": "code",
   "execution_count": 10,
   "id": "b42d23fb",
   "metadata": {},
   "outputs": [
    {
     "name": "stdout",
     "output_type": "stream",
     "text": [
      "Hello World & welcome to machine Learning or Ai world."
     ]
    }
   ],
   "source": [
    "print('Hello World', 'welcome to machine Learning or Ai world' , sep= ' & ' , end='.')\n"
   ]
  },
  {
   "cell_type": "code",
   "execution_count": 16,
   "id": "5ff5ddb2",
   "metadata": {},
   "outputs": [
    {
     "name": "stdout",
     "output_type": "stream",
     "text": [
      "Hello World\n",
      "The sentence is Hello World\n"
     ]
    }
   ],
   "source": [
    "var= 'Hello World'\n",
    "print(var)\n",
    "print('The sentence is ' + var)"
   ]
  },
  {
   "cell_type": "code",
   "execution_count": 17,
   "id": "018c9b7a",
   "metadata": {},
   "outputs": [],
   "source": [
    "x= 500"
   ]
  },
  {
   "cell_type": "code",
   "execution_count": 18,
   "id": "e80152b1",
   "metadata": {},
   "outputs": [
    {
     "data": {
      "text/plain": [
       "500"
      ]
     },
     "execution_count": 18,
     "metadata": {},
     "output_type": "execute_result"
    }
   ],
   "source": [
    "x"
   ]
  },
  {
   "cell_type": "code",
   "execution_count": 21,
   "id": "0ade47df",
   "metadata": {},
   "outputs": [],
   "source": [
    "y= 500"
   ]
  },
  {
   "cell_type": "code",
   "execution_count": 22,
   "id": "bf286e16",
   "metadata": {},
   "outputs": [
    {
     "data": {
      "text/plain": [
       "500"
      ]
     },
     "execution_count": 22,
     "metadata": {},
     "output_type": "execute_result"
    }
   ],
   "source": [
    "y"
   ]
  },
  {
   "cell_type": "code",
   "execution_count": 23,
   "id": "34841e52",
   "metadata": {},
   "outputs": [
    {
     "data": {
      "text/plain": [
       "1695011976368"
      ]
     },
     "execution_count": 23,
     "metadata": {},
     "output_type": "execute_result"
    }
   ],
   "source": [
    "id(x)"
   ]
  },
  {
   "cell_type": "code",
   "execution_count": 24,
   "id": "798cb7bc",
   "metadata": {},
   "outputs": [
    {
     "data": {
      "text/plain": [
       "1695039975568"
      ]
     },
     "execution_count": 24,
     "metadata": {},
     "output_type": "execute_result"
    }
   ],
   "source": [
    "id(y)"
   ]
  },
  {
   "cell_type": "code",
   "execution_count": 25,
   "id": "0f2192d6",
   "metadata": {},
   "outputs": [
    {
     "ename": "SyntaxError",
     "evalue": "invalid decimal literal (3687978043.py, line 1)",
     "output_type": "error",
     "traceback": [
      "\u001b[1;36m  Cell \u001b[1;32mIn[25], line 1\u001b[1;36m\u001b[0m\n\u001b[1;33m    9var = 100\u001b[0m\n\u001b[1;37m    ^\u001b[0m\n\u001b[1;31mSyntaxError\u001b[0m\u001b[1;31m:\u001b[0m invalid decimal literal\n"
     ]
    }
   ],
   "source": [
    "9var = 100  #invalid"
   ]
  },
  {
   "cell_type": "code",
   "execution_count": 26,
   "id": "67f3822c",
   "metadata": {},
   "outputs": [],
   "source": [
    "var9 = 100"
   ]
  },
  {
   "cell_type": "code",
   "execution_count": 27,
   "id": "f36ed154",
   "metadata": {},
   "outputs": [
    {
     "data": {
      "text/plain": [
       "100"
      ]
     },
     "execution_count": 27,
     "metadata": {},
     "output_type": "execute_result"
    }
   ],
   "source": [
    "var9"
   ]
  },
  {
   "cell_type": "code",
   "execution_count": 28,
   "id": "8eb23487",
   "metadata": {},
   "outputs": [
    {
     "data": {
      "text/plain": [
       "100"
      ]
     },
     "execution_count": 28,
     "metadata": {},
     "output_type": "execute_result"
    }
   ],
   "source": [
    "x,y,z = 100,500,800\n",
    "x"
   ]
  },
  {
   "cell_type": "code",
   "execution_count": 29,
   "id": "8e1206e9",
   "metadata": {},
   "outputs": [
    {
     "data": {
      "text/plain": [
       "500"
      ]
     },
     "execution_count": 29,
     "metadata": {},
     "output_type": "execute_result"
    }
   ],
   "source": [
    "y"
   ]
  },
  {
   "cell_type": "code",
   "execution_count": 30,
   "id": "76fb69de",
   "metadata": {},
   "outputs": [
    {
     "data": {
      "text/plain": [
       "(800, 100)"
      ]
     },
     "execution_count": 30,
     "metadata": {},
     "output_type": "execute_result"
    }
   ],
   "source": [
    "z,x"
   ]
  },
  {
   "cell_type": "code",
   "execution_count": 31,
   "id": "1bf1aacd",
   "metadata": {},
   "outputs": [
    {
     "data": {
      "text/plain": [
       "(100, 500)"
      ]
     },
     "execution_count": 31,
     "metadata": {},
     "output_type": "execute_result"
    }
   ],
   "source": [
    "x,y"
   ]
  },
  {
   "cell_type": "code",
   "execution_count": 32,
   "id": "89d2762d",
   "metadata": {},
   "outputs": [
    {
     "data": {
      "text/plain": [
       "(100, 500, 800)"
      ]
     },
     "execution_count": 32,
     "metadata": {},
     "output_type": "execute_result"
    }
   ],
   "source": [
    "x,y,z"
   ]
  },
  {
   "cell_type": "markdown",
   "id": "8d8cc5a6",
   "metadata": {},
   "source": [
    "# local vs global variable"
   ]
  },
  {
   "cell_type": "code",
   "execution_count": 61,
   "id": "257b2349",
   "metadata": {},
   "outputs": [],
   "source": [
    "x = 800 #global\n",
    "def func1():\n",
    "    x= 500 #local\n",
    "    \n",
    "    print('my num is :' , x)\n",
    "    func1()\n",
    "    "
   ]
  },
  {
   "cell_type": "code",
   "execution_count": 62,
   "id": "8b326052",
   "metadata": {},
   "outputs": [
    {
     "name": "stdout",
     "output_type": "stream",
     "text": [
      "my num is : 800\n",
      "my num is : 800\n"
     ]
    }
   ],
   "source": [
    " print('my num is :' , x)\n",
    "print('my num is :' , x)  "
   ]
  },
  {
   "cell_type": "code",
   "execution_count": null,
   "id": "3b80d9ad",
   "metadata": {},
   "outputs": [],
   "source": []
  }
 ],
 "metadata": {
  "kernelspec": {
   "display_name": "Python 3 (ipykernel)",
   "language": "python",
   "name": "python3"
  },
  "language_info": {
   "codemirror_mode": {
    "name": "ipython",
    "version": 3
   },
   "file_extension": ".py",
   "mimetype": "text/x-python",
   "name": "python",
   "nbconvert_exporter": "python",
   "pygments_lexer": "ipython3",
   "version": "3.10.9"
  }
 },
 "nbformat": 4,
 "nbformat_minor": 5
}
