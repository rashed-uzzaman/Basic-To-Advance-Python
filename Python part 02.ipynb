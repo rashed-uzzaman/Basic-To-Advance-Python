{
 "cells": [
  {
   "cell_type": "markdown",
   "id": "ffab603e",
   "metadata": {},
   "source": [
    "# input function"
   ]
  },
  {
   "cell_type": "code",
   "execution_count": 1,
   "id": "5cdb4d1d",
   "metadata": {},
   "outputs": [],
   "source": [
    "data = 'data science fun!'"
   ]
  },
  {
   "cell_type": "code",
   "execution_count": 2,
   "id": "89194a7c",
   "metadata": {},
   "outputs": [
    {
     "data": {
      "text/plain": [
       "str"
      ]
     },
     "execution_count": 2,
     "metadata": {},
     "output_type": "execute_result"
    }
   ],
   "source": [
    "type(data)"
   ]
  },
  {
   "cell_type": "code",
   "execution_count": null,
   "id": "932dbcb0",
   "metadata": {},
   "outputs": [],
   "source": [
    "data = input()"
   ]
  },
  {
   "cell_type": "code",
   "execution_count": 5,
   "id": "600eb62f",
   "metadata": {},
   "outputs": [
    {
     "name": "stdout",
     "output_type": "stream",
     "text": [
      "10\n",
      "20\n"
     ]
    }
   ],
   "source": [
    "x = input()\n",
    "y = input()\n",
    "\n"
   ]
  },
  {
   "cell_type": "code",
   "execution_count": 6,
   "id": "39440b67",
   "metadata": {},
   "outputs": [
    {
     "data": {
      "text/plain": [
       "'1020'"
      ]
     },
     "execution_count": 6,
     "metadata": {},
     "output_type": "execute_result"
    }
   ],
   "source": [
    "x+y"
   ]
  },
  {
   "cell_type": "code",
   "execution_count": 7,
   "id": "ca52fece",
   "metadata": {},
   "outputs": [
    {
     "data": {
      "text/plain": [
       "str"
      ]
     },
     "execution_count": 7,
     "metadata": {},
     "output_type": "execute_result"
    }
   ],
   "source": [
    "type(x)"
   ]
  },
  {
   "cell_type": "code",
   "execution_count": 8,
   "id": "cd9cf7fd",
   "metadata": {},
   "outputs": [
    {
     "data": {
      "text/plain": [
       "str"
      ]
     },
     "execution_count": 8,
     "metadata": {},
     "output_type": "execute_result"
    }
   ],
   "source": [
    "type(y)"
   ]
  },
  {
   "cell_type": "code",
   "execution_count": null,
   "id": "828fb8d6",
   "metadata": {},
   "outputs": [],
   "source": [
    "x = int(x)\n",
    "y = int(y)"
   ]
  },
  {
   "cell_type": "code",
   "execution_count": 18,
   "id": "bf1bf51c",
   "metadata": {},
   "outputs": [
    {
     "data": {
      "text/plain": [
       "'1020'"
      ]
     },
     "execution_count": 18,
     "metadata": {},
     "output_type": "execute_result"
    }
   ],
   "source": [
    "x+y"
   ]
  },
  {
   "cell_type": "code",
   "execution_count": 12,
   "id": "bbc2f66c",
   "metadata": {},
   "outputs": [
    {
     "data": {
      "text/plain": [
       "str"
      ]
     },
     "execution_count": 12,
     "metadata": {},
     "output_type": "execute_result"
    }
   ],
   "source": [
    "type(x)"
   ]
  },
  {
   "cell_type": "code",
   "execution_count": 19,
   "id": "a2e25ae0",
   "metadata": {},
   "outputs": [],
   "source": [
    "x = int(x)\n",
    "y = int(y)"
   ]
  },
  {
   "cell_type": "code",
   "execution_count": 20,
   "id": "8fd81b7a",
   "metadata": {},
   "outputs": [
    {
     "data": {
      "text/plain": [
       "30"
      ]
     },
     "execution_count": 20,
     "metadata": {},
     "output_type": "execute_result"
    }
   ],
   "source": [
    "x+y"
   ]
  },
  {
   "cell_type": "code",
   "execution_count": 21,
   "id": "f3ab4a63",
   "metadata": {},
   "outputs": [
    {
     "data": {
      "text/plain": [
       "int"
      ]
     },
     "execution_count": 21,
     "metadata": {},
     "output_type": "execute_result"
    }
   ],
   "source": [
    "type(y)"
   ]
  },
  {
   "cell_type": "code",
   "execution_count": 22,
   "id": "7e3b1f29",
   "metadata": {},
   "outputs": [
    {
     "data": {
      "text/plain": [
       "int"
      ]
     },
     "execution_count": 22,
     "metadata": {},
     "output_type": "execute_result"
    }
   ],
   "source": [
    "type(y)"
   ]
  },
  {
   "cell_type": "code",
   "execution_count": 23,
   "id": "4f577408",
   "metadata": {},
   "outputs": [
    {
     "name": "stdout",
     "output_type": "stream",
     "text": [
      "my 1st number:200\n"
     ]
    }
   ],
   "source": [
    "x = int(input('my 1st number:'))"
   ]
  },
  {
   "cell_type": "code",
   "execution_count": 24,
   "id": "1dcab433",
   "metadata": {},
   "outputs": [
    {
     "data": {
      "text/plain": [
       "200"
      ]
     },
     "execution_count": 24,
     "metadata": {},
     "output_type": "execute_result"
    }
   ],
   "source": [
    "x"
   ]
  },
  {
   "cell_type": "code",
   "execution_count": 25,
   "id": "03a956aa",
   "metadata": {},
   "outputs": [
    {
     "name": "stdout",
     "output_type": "stream",
     "text": [
      "my 2nd number :50\n"
     ]
    }
   ],
   "source": [
    "y = int(input('my 2nd number :'))"
   ]
  },
  {
   "cell_type": "code",
   "execution_count": 26,
   "id": "de23fe65",
   "metadata": {},
   "outputs": [
    {
     "data": {
      "text/plain": [
       "50"
      ]
     },
     "execution_count": 26,
     "metadata": {},
     "output_type": "execute_result"
    }
   ],
   "source": [
    "y"
   ]
  },
  {
   "cell_type": "code",
   "execution_count": 28,
   "id": "8c1af13c",
   "metadata": {},
   "outputs": [
    {
     "name": "stdout",
     "output_type": "stream",
     "text": [
      "my 2nd number :60\n"
     ]
    }
   ],
   "source": [
    "y = float(input('my 2nd number :'))"
   ]
  },
  {
   "cell_type": "code",
   "execution_count": 29,
   "id": "241661a4",
   "metadata": {},
   "outputs": [
    {
     "data": {
      "text/plain": [
       "260.0"
      ]
     },
     "execution_count": 29,
     "metadata": {},
     "output_type": "execute_result"
    }
   ],
   "source": [
    "x+y"
   ]
  },
  {
   "cell_type": "markdown",
   "id": "6675dfc8",
   "metadata": {},
   "source": [
    "# String function"
   ]
  },
  {
   "cell_type": "code",
   "execution_count": 31,
   "id": "2944df6a",
   "metadata": {},
   "outputs": [],
   "source": [
    "data = 'machine learning engineering'"
   ]
  },
  {
   "cell_type": "code",
   "execution_count": 32,
   "id": "f9d70033",
   "metadata": {},
   "outputs": [
    {
     "data": {
      "text/plain": [
       "str"
      ]
     },
     "execution_count": 32,
     "metadata": {},
     "output_type": "execute_result"
    }
   ],
   "source": [
    "type(data)"
   ]
  },
  {
   "cell_type": "code",
   "execution_count": 33,
   "id": "ebc66c9c",
   "metadata": {},
   "outputs": [
    {
     "data": {
      "text/plain": [
       "28"
      ]
     },
     "execution_count": 33,
     "metadata": {},
     "output_type": "execute_result"
    }
   ],
   "source": [
    "len(data)"
   ]
  },
  {
   "cell_type": "code",
   "execution_count": 6,
   "id": "6f79b322",
   "metadata": {},
   "outputs": [
    {
     "data": {
      "text/plain": [
       "53"
      ]
     },
     "execution_count": 6,
     "metadata": {},
     "output_type": "execute_result"
    }
   ],
   "source": [
    "import sys\n",
    "sys.getsizeof('data')"
   ]
  },
  {
   "cell_type": "code",
   "execution_count": 29,
   "id": "e498c360",
   "metadata": {},
   "outputs": [
    {
     "ename": "NameError",
     "evalue": "name 'data' is not defined",
     "output_type": "error",
     "traceback": [
      "\u001b[1;31m---------------------------------------------------------------------------\u001b[0m",
      "\u001b[1;31mNameError\u001b[0m                                 Traceback (most recent call last)",
      "Cell \u001b[1;32mIn[29], line 1\u001b[0m\n\u001b[1;32m----> 1\u001b[0m \u001b[43mdata\u001b[49m\u001b[38;5;241m.\u001b[39m count(\u001b[38;5;124m'\u001b[39m\u001b[38;5;124mpython\u001b[39m\u001b[38;5;124m'\u001b[39m)\n",
      "\u001b[1;31mNameError\u001b[0m: name 'data' is not defined"
     ]
    }
   ],
   "source": [
    "data.count('python')"
   ]
  },
  {
   "cell_type": "code",
   "execution_count": 30,
   "id": "29726754",
   "metadata": {},
   "outputs": [],
   "source": [
    "sub = 'days of python'"
   ]
  },
  {
   "cell_type": "code",
   "execution_count": 33,
   "id": "ef1332b4",
   "metadata": {},
   "outputs": [
    {
     "data": {
      "text/plain": [
       "1"
      ]
     },
     "execution_count": 33,
     "metadata": {},
     "output_type": "execute_result"
    }
   ],
   "source": [
    "sub.count('python')"
   ]
  },
  {
   "cell_type": "markdown",
   "id": "5f91106e",
   "metadata": {},
   "source": [
    "# string method for python"
   ]
  },
  {
   "cell_type": "code",
   "execution_count": 34,
   "id": "0b045bb9",
   "metadata": {},
   "outputs": [
    {
     "data": {
      "text/plain": [
       "8"
      ]
     },
     "execution_count": 34,
     "metadata": {},
     "output_type": "execute_result"
    }
   ],
   "source": [
    "data = '60 days of python'\n",
    "data.find('of')"
   ]
  },
  {
   "cell_type": "code",
   "execution_count": 36,
   "id": "93972e50",
   "metadata": {},
   "outputs": [
    {
     "data": {
      "text/plain": [
       "16"
      ]
     },
     "execution_count": 36,
     "metadata": {},
     "output_type": "execute_result"
    }
   ],
   "source": [
    "data.find('n')"
   ]
  },
  {
   "cell_type": "code",
   "execution_count": 37,
   "id": "e5025f82",
   "metadata": {},
   "outputs": [
    {
     "data": {
      "text/plain": [
       "6"
      ]
     },
     "execution_count": 37,
     "metadata": {},
     "output_type": "execute_result"
    }
   ],
   "source": [
    "data.find('s')"
   ]
  },
  {
   "cell_type": "code",
   "execution_count": 42,
   "id": "357396d0",
   "metadata": {},
   "outputs": [
    {
     "data": {
      "text/plain": [
       "-1"
      ]
     },
     "execution_count": 42,
     "metadata": {},
     "output_type": "execute_result"
    }
   ],
   "source": [
    "data.find('y,3,16')"
   ]
  },
  {
   "cell_type": "code",
   "execution_count": 40,
   "id": "deeccca9",
   "metadata": {},
   "outputs": [
    {
     "data": {
      "text/plain": [
       "-1"
      ]
     },
     "execution_count": 40,
     "metadata": {},
     "output_type": "execute_result"
    }
   ],
   "source": [
    "data.find('2,5,10')"
   ]
  },
  {
   "cell_type": "code",
   "execution_count": 48,
   "id": "1cd27785",
   "metadata": {},
   "outputs": [
    {
     "data": {
      "text/plain": [
       "5"
      ]
     },
     "execution_count": 48,
     "metadata": {},
     "output_type": "execute_result"
    }
   ],
   "source": [
    "data.find('y',3,10)"
   ]
  },
  {
   "cell_type": "code",
   "execution_count": 45,
   "id": "1e59685a",
   "metadata": {},
   "outputs": [
    {
     "data": {
      "text/plain": [
       "6"
      ]
     },
     "execution_count": 45,
     "metadata": {},
     "output_type": "execute_result"
    }
   ],
   "source": [
    "data.index('s')"
   ]
  },
  {
   "cell_type": "code",
   "execution_count": 47,
   "id": "666a85d7",
   "metadata": {},
   "outputs": [
    {
     "data": {
      "text/plain": [
       "12"
      ]
     },
     "execution_count": 47,
     "metadata": {},
     "output_type": "execute_result"
    }
   ],
   "source": [
    "data.index('y',6,13)"
   ]
  },
  {
   "cell_type": "code",
   "execution_count": 49,
   "id": "77dff9b8",
   "metadata": {},
   "outputs": [
    {
     "data": {
      "text/plain": [
       "'60 days of python'"
      ]
     },
     "execution_count": 49,
     "metadata": {},
     "output_type": "execute_result"
    }
   ],
   "source": [
    "data.lower()"
   ]
  },
  {
   "cell_type": "code",
   "execution_count": 50,
   "id": "6686ebb2",
   "metadata": {},
   "outputs": [
    {
     "data": {
      "text/plain": [
       "'60 DAYS OF PYTHON'"
      ]
     },
     "execution_count": 50,
     "metadata": {},
     "output_type": "execute_result"
    }
   ],
   "source": [
    "data.upper()"
   ]
  },
  {
   "cell_type": "code",
   "execution_count": 51,
   "id": "e57fb70a",
   "metadata": {},
   "outputs": [
    {
     "data": {
      "text/plain": [
       "'60 days of python'"
      ]
     },
     "execution_count": 51,
     "metadata": {},
     "output_type": "execute_result"
    }
   ],
   "source": [
    "data.casefold()"
   ]
  },
  {
   "cell_type": "code",
   "execution_count": 53,
   "id": "f8257907",
   "metadata": {},
   "outputs": [
    {
     "data": {
      "text/plain": [
       "'60 days of python'"
      ]
     },
     "execution_count": 53,
     "metadata": {},
     "output_type": "execute_result"
    }
   ],
   "source": [
    "data.capitalize()"
   ]
  },
  {
   "cell_type": "code",
   "execution_count": 54,
   "id": "538e9d1e",
   "metadata": {},
   "outputs": [
    {
     "data": {
      "text/plain": [
       "'60 DAYS OF PYTHON'"
      ]
     },
     "execution_count": 54,
     "metadata": {},
     "output_type": "execute_result"
    }
   ],
   "source": [
    "data.swapcase()"
   ]
  },
  {
   "cell_type": "code",
   "execution_count": 56,
   "id": "9c9c72c4",
   "metadata": {},
   "outputs": [
    {
     "data": {
      "text/plain": [
       "'60 Days Of Python'"
      ]
     },
     "execution_count": 56,
     "metadata": {},
     "output_type": "execute_result"
    }
   ],
   "source": [
    "data.title()"
   ]
  },
  {
   "cell_type": "code",
   "execution_count": 57,
   "id": "d61cef9c",
   "metadata": {},
   "outputs": [
    {
     "data": {
      "text/plain": [
       "True"
      ]
     },
     "execution_count": 57,
     "metadata": {},
     "output_type": "execute_result"
    }
   ],
   "source": [
    "data.islower()"
   ]
  },
  {
   "cell_type": "code",
   "execution_count": 58,
   "id": "7f046047",
   "metadata": {},
   "outputs": [
    {
     "data": {
      "text/plain": [
       "False"
      ]
     },
     "execution_count": 58,
     "metadata": {},
     "output_type": "execute_result"
    }
   ],
   "source": [
    "data.isupper()"
   ]
  },
  {
   "cell_type": "code",
   "execution_count": 59,
   "id": "60a78fb1",
   "metadata": {},
   "outputs": [
    {
     "data": {
      "text/plain": [
       "False"
      ]
     },
     "execution_count": 59,
     "metadata": {},
     "output_type": "execute_result"
    }
   ],
   "source": [
    "data.isdigit()"
   ]
  },
  {
   "cell_type": "code",
   "execution_count": 60,
   "id": "406afd29",
   "metadata": {},
   "outputs": [
    {
     "data": {
      "text/plain": [
       "['60', 'days', 'of', 'python']"
      ]
     },
     "execution_count": 60,
     "metadata": {},
     "output_type": "execute_result"
    }
   ],
   "source": [
    "data.split()"
   ]
  },
  {
   "cell_type": "code",
   "execution_count": 61,
   "id": "451be8e3",
   "metadata": {},
   "outputs": [
    {
     "data": {
      "text/plain": [
       "'      60 days of python       '"
      ]
     },
     "execution_count": 61,
     "metadata": {},
     "output_type": "execute_result"
    }
   ],
   "source": [
    "data.center(30)"
   ]
  },
  {
   "cell_type": "code",
   "execution_count": 63,
   "id": "da9eaaee",
   "metadata": {},
   "outputs": [
    {
     "data": {
      "text/plain": [
       "'ai days of python'"
      ]
     },
     "execution_count": 63,
     "metadata": {},
     "output_type": "execute_result"
    }
   ],
   "source": [
    "data.replace('60','ai')"
   ]
  },
  {
   "cell_type": "code",
   "execution_count": 66,
   "id": "9d93b50d",
   "metadata": {},
   "outputs": [
    {
     "name": "stdout",
     "output_type": "stream",
     "text": [
      "i have 100 taka\n"
     ]
    }
   ],
   "source": [
    "x= 100\n",
    "y=500\n",
    "x*y\n",
    "\n",
    "print('i have' ,x, 'taka')"
   ]
  },
  {
   "cell_type": "code",
   "execution_count": 68,
   "id": "8d885746",
   "metadata": {},
   "outputs": [
    {
     "name": "stdout",
     "output_type": "stream",
     "text": [
      "i have 500 taka\n"
     ]
    }
   ],
   "source": [
    "print('i have {} taka'. format(y))"
   ]
  },
  {
   "cell_type": "code",
   "execution_count": null,
   "id": "53f5dc90",
   "metadata": {},
   "outputs": [],
   "source": []
  }
 ],
 "metadata": {
  "kernelspec": {
   "display_name": "Python 3 (ipykernel)",
   "language": "python",
   "name": "python3"
  },
  "language_info": {
   "codemirror_mode": {
    "name": "ipython",
    "version": 3
   },
   "file_extension": ".py",
   "mimetype": "text/x-python",
   "name": "python",
   "nbconvert_exporter": "python",
   "pygments_lexer": "ipython3",
   "version": "3.10.9"
  }
 },
 "nbformat": 4,
 "nbformat_minor": 5
}
