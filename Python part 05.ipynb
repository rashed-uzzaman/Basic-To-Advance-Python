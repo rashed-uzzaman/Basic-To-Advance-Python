{
 "cells": [
  {
   "cell_type": "markdown",
   "id": "c30769dc",
   "metadata": {},
   "source": [
    "# Rashed-uzzaman"
   ]
  },
  {
   "cell_type": "code",
   "execution_count": 9,
   "id": "f6ca1c58",
   "metadata": {},
   "outputs": [
    {
     "name": "stdout",
     "output_type": "stream",
     "text": [
      "y is greater than x\n",
      "data science\n"
     ]
    }
   ],
   "source": [
    "#if eles statement in python\n",
    "\n",
    "x = 50\n",
    "y = 100\n",
    "\n",
    "if x>y:\n",
    "    print('x is greater than y')\n",
    "    \n",
    "if y>x:    \n",
    "    print('y is greater than x')\n",
    "    print ('data science')\n",
    "    if x==y:\n",
    "        print('Not equal')\n",
    "else:\n",
    "    print('output')\n"
   ]
  },
  {
   "cell_type": "code",
   "execution_count": 2,
   "id": "b104491a",
   "metadata": {},
   "outputs": [
    {
     "name": "stdout",
     "output_type": "stream",
     "text": [
      "Enter any num : 20\n",
      "20.0 divisible bt 5 and 2\n"
     ]
    }
   ],
   "source": [
    "num = float(input('Enter any num : '))\n",
    "\n",
    "if num %2 == 0:\n",
    "    if num %5 == 0:\n",
    "        print (num, 'divisible bt 5 and 2')\n",
    "        \n",
    "    else:\n",
    "        print('no 1')\n",
    "        \n",
    "else:\n",
    "    print('no 2')\n",
    "    "
   ]
  },
  {
   "cell_type": "code",
   "execution_count": 4,
   "id": "2e5ce818",
   "metadata": {},
   "outputs": [
    {
     "ename": "IndentationError",
     "evalue": "unexpected indent (1150770062.py, line 2)",
     "output_type": "error",
     "traceback": [
      "\u001b[1;36m  Cell \u001b[1;32mIn[4], line 2\u001b[1;36m\u001b[0m\n\u001b[1;33m    image('electicity.png')\u001b[0m\n\u001b[1;37m    ^\u001b[0m\n\u001b[1;31mIndentationError\u001b[0m\u001b[1;31m:\u001b[0m unexpected indent\n"
     ]
    }
   ],
   "source": [
    "from IPython.dispaly import image\n",
    "    image('electicity.png')"
   ]
  },
  {
   "cell_type": "code",
   "execution_count": null,
   "id": "a2bc75ba",
   "metadata": {},
   "outputs": [],
   "source": [
    "amount = 0\n",
    "net_units = float(input('Enter your unit value :'))\n",
    "\n",
    "if net_units <= 100:\n",
    "    amount = 0\n",
    "    \n",
    "    \n",
    "elif net_units > 100 and  net_units <= 200:\n",
    "     amount = ((net_units - 200) *5)\n",
    "        \n",
    "    \n",
    "elif net_units > 200:\n",
    "    amount = ((net_units - 200)*10) + 500\n",
    "      \n",
    "    \n",
    "print = ('amount is' ,amount)   \n",
    "        \n",
    "        \n",
    "    "
   ]
  },
  {
   "cell_type": "code",
   "execution_count": null,
   "id": "7dfbdf19",
   "metadata": {},
   "outputs": [],
   "source": []
  }
 ],
 "metadata": {
  "kernelspec": {
   "display_name": "Python 3 (ipykernel)",
   "language": "python",
   "name": "python3"
  },
  "language_info": {
   "codemirror_mode": {
    "name": "ipython",
    "version": 3
   },
   "file_extension": ".py",
   "mimetype": "text/x-python",
   "name": "python",
   "nbconvert_exporter": "python",
   "pygments_lexer": "ipython3",
   "version": "3.10.9"
  }
 },
 "nbformat": 4,
 "nbformat_minor": 5
}
